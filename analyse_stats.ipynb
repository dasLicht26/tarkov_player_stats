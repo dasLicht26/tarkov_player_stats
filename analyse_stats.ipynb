{
 "cells": [
  {
   "cell_type": "code",
   "execution_count": 3,
   "metadata": {},
   "outputs": [
    {
     "data": {
      "text/html": [
       "<div>\n",
       "<style scoped>\n",
       "    .dataframe tbody tr th:only-of-type {\n",
       "        vertical-align: middle;\n",
       "    }\n",
       "\n",
       "    .dataframe tbody tr th {\n",
       "        vertical-align: top;\n",
       "    }\n",
       "\n",
       "    .dataframe thead th {\n",
       "        text-align: right;\n",
       "    }\n",
       "</style>\n",
       "<table border=\"1\" class=\"dataframe\">\n",
       "  <thead>\n",
       "    <tr style=\"text-align: right;\">\n",
       "      <th></th>\n",
       "      <th>Kills</th>\n",
       "      <th>Deaths</th>\n",
       "      <th>KD-Ratio</th>\n",
       "    </tr>\n",
       "  </thead>\n",
       "  <tbody>\n",
       "    <tr>\n",
       "      <th>0</th>\n",
       "      <td>102</td>\n",
       "      <td>177</td>\n",
       "      <td>0.576271</td>\n",
       "    </tr>\n",
       "    <tr>\n",
       "      <th>1</th>\n",
       "      <td>435</td>\n",
       "      <td>267</td>\n",
       "      <td>1.629213</td>\n",
       "    </tr>\n",
       "    <tr>\n",
       "      <th>2</th>\n",
       "      <td>348</td>\n",
       "      <td>341</td>\n",
       "      <td>1.020528</td>\n",
       "    </tr>\n",
       "    <tr>\n",
       "      <th>3</th>\n",
       "      <td>270</td>\n",
       "      <td>282</td>\n",
       "      <td>0.957447</td>\n",
       "    </tr>\n",
       "    <tr>\n",
       "      <th>4</th>\n",
       "      <td>106</td>\n",
       "      <td>63</td>\n",
       "      <td>1.682540</td>\n",
       "    </tr>\n",
       "  </tbody>\n",
       "</table>\n",
       "</div>"
      ],
      "text/plain": [
       "   Kills  Deaths  KD-Ratio\n",
       "0    102     177  0.576271\n",
       "1    435     267  1.629213\n",
       "2    348     341  1.020528\n",
       "3    270     282  0.957447\n",
       "4    106      63  1.682540"
      ]
     },
     "execution_count": 3,
     "metadata": {},
     "output_type": "execute_result"
    }
   ],
   "source": [
    "import numpy as np\n",
    "import pandas as pd\n",
    "import matplotlib.pyplot as plt\n",
    "from scipy.stats import norm\n",
    "\n",
    "# Zufällige Daten für das Beispiel generieren\n",
    "np.random.seed(42)  # Für reproduzierbare Ergebnisse\n",
    "\n",
    "# Beispiel: 1000 Spieler mit zufälligen Kills und Deaths\n",
    "data = {\n",
    "    'Kills': np.random.randint(0, 500, 1000),\n",
    "    'Deaths': np.random.randint(1, 500, 1000)  # Vermeiden von 0, um Division durch 0 zu vermeiden\n",
    "}\n",
    "\n",
    "# DataFrame erstellen\n",
    "df = pd.DataFrame(data)\n",
    "\n",
    "# KD-Ratio berechnen\n",
    "df['KD-Ratio'] = df['Kills'] / df['Deaths']\n",
    "\n",
    "# Ausgabe der ersten Zeilen des DataFrames\n",
    "df.head()\n"
   ]
  }
 ],
 "metadata": {
  "kernelspec": {
   "display_name": "Python 3",
   "language": "python",
   "name": "python3"
  },
  "language_info": {
   "codemirror_mode": {
    "name": "ipython",
    "version": 3
   },
   "file_extension": ".py",
   "mimetype": "text/x-python",
   "name": "python",
   "nbconvert_exporter": "python",
   "pygments_lexer": "ipython3",
   "version": "3.11.9"
  }
 },
 "nbformat": 4,
 "nbformat_minor": 2
}
